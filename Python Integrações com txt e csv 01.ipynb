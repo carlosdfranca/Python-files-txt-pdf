{
 "cells": [
  {
   "cell_type": "markdown",
   "metadata": {},
   "source": [
    "# Integração do Python com Arquivos txt\n",
    "\n",
    "Como quase tudo no Python, existem várias formas de ler um arquivo no Python.\n",
    "\n",
    "Aprendemos em módulos passadas a ler arquivos em Excel ou csv com o Pandas, minha recomendação é que, sempre que possível, use o pandas para isso porque ele é um módulo feito para análise de dados e tem muita coisa pronta dentro dele.\n",
    "\n",
    "Caso queira ler um arquivo txt simplesmente ou escrever um, vamos ver agora como fazer.\n",
    "\n",
    "### Estrutura:"
   ]
  },
  {
   "cell_type": "raw",
   "metadata": {},
   "source": [
    "1. Método open: -> Abre um arquivo txt\n",
    "\n",
    "arquivo = open('NomeArquivo.txt', 'r')\n",
    "\n",
    "Usamos 'r' para abrir o arquivo para ler (read) e 'w' quando estamos abrindo o arquivo para escrever (write) ou 'a' se formos adicionar (append) uma informação no arquivo"
   ]
  },
  {
   "cell_type": "markdown",
   "metadata": {},
   "source": [
    "- Com o arquivo aberto, agora podemos efetivamente ler o arquivo com os métodos:"
   ]
  },
  {
   "cell_type": "raw",
   "metadata": {},
   "source": [
    "2. Método read():\n",
    "\n",
    "texto_arquivo = arquivo.read()\n",
    "\n",
    "3. Método readlines():\n",
    "\n",
    "lista_linhas = arquivo.readlines()"
   ]
  },
  {
   "cell_type": "markdown",
   "metadata": {},
   "source": [
    "- Para escrever alguma coisa no arquivo teremos o método write:"
   ]
  },
  {
   "cell_type": "raw",
   "metadata": {},
   "source": [
    "4. Método write():\n",
    "\n",
    "arquivo.write('Texto que quero escrever')"
   ]
  },
  {
   "cell_type": "markdown",
   "metadata": {},
   "source": [
    "- Obs: Quando você abre um arquivo, ele permanece aberto no Python até você fechar. Existem 2 formas de fazer isso:"
   ]
  },
  {
   "cell_type": "raw",
   "metadata": {},
   "source": [
    "5. Método close():\n",
    "\n",
    "arquivo.close()\n",
    "\n",
    "6. Usando a estrutura with: -> ao final do with, a própria estrutura with fecha automaticamente o arquivo\n",
    "\n",
    "with open('NomeArquivo.txt', 'w') as arquivo:\n",
    "    arquivo.write()\n",
    "    ..."
   ]
  },
  {
   "cell_type": "markdown",
   "metadata": {},
   "source": [
    "### Desafio onde vamos aprender:\n",
    "\n",
    "- Na Hashtag, sempre analisamos o nosso \"Funil de Vendas\". Para isso, rastreamos de onde veio os alunos por meio de um código, do tipo:\n",
    "    - hashtag_site_org -> Pessoas que vieram pelo site da Hashtag\n",
    "    - hashtag_yt_org -> Pessoas que vieram pelo Youtube da Hashtag\n",
    "    - hashtag_ig_org -> Pessoas que vieram pelo Instagram da Hashtag\n",
    "    - hashtag_igfb_org -> Pessoas que vieram pelo Instagram ou Facebook da Hashtag\n",
    "\n",
    "Os códigos diferentes disso, são códigos de anúncio da Hashtag.\n",
    "\n",
    "- Queremos analisar quantos alunos vieram de anúncio e quantos vieram \"orgânico\".\n",
    "- Qual a melhor fonte \"orgânica\" de alunos\n",
    "\n",
    "Obs: orgânico é tudo aquilo que não veio de anúncios.\n",
    "\n",
    "No nosso sistema, conseguimos exportar um txt com as informações dos alunos, conforme o arquivo Alunos.txt<br>\n",
    "(Os dados foram gerados aleatoriamente para simular uma situação real, já que não podemos fornecer os dados reais dos alunos por questões de segurança)\n",
    "\n",
    "- No final, para treinar, vamos escrever todas essas respostas em um novo arquivo txt"
   ]
  },
  {
   "cell_type": "markdown",
   "metadata": {},
   "source": [
    "# 'r' e .read()"
   ]
  },
  {
   "cell_type": "code",
   "execution_count": null,
   "metadata": {},
   "outputs": [],
   "source": [
    "arquivo = open('Alunos.txt', 'r')\n",
    "\n",
    "texto_arquivo = arquivo.read()\n",
    "\n",
    "print(texto_arquivo)"
   ]
  },
  {
   "cell_type": "markdown",
   "metadata": {},
   "source": [
    "# 'w',  .write(), .close() e o método with"
   ]
  },
  {
   "cell_type": "code",
   "execution_count": null,
   "metadata": {},
   "outputs": [],
   "source": [
    "novo_arquivo = open('Resumo.txt', 'w')\n",
    "\n",
    "novo_arquivo.write('Ola, meu nome é Carlos\\nOutra linha')\n",
    "novo_arquivo.write('Outra linha')\n",
    "\n",
    "novo_arquivo.close()\n",
    "\n",
    "\n",
    "with open('Resumo 2.txt', 'w') as arquivo2:\n",
    "    arquivo2.write('Ola, meu nome é Carlos\\nOutra linha')\n",
    "    arquivo2.write('Outra linha')\n",
    "\n",
    "print('Fim do Código')"
   ]
  },
  {
   "cell_type": "markdown",
   "metadata": {},
   "source": [
    "# Desafio: "
   ]
  },
  {
   "cell_type": "code",
   "execution_count": 49,
   "metadata": {},
   "outputs": [
    {
     "name": "stdout",
     "output_type": "stream",
     "text": [
      "73\n",
      "155\n",
      "24\n"
     ]
    }
   ],
   "source": [
    "# Variáveis para as fontes\n",
    "pessoas_site = 0\n",
    "pessoas_yt = 0\n",
    "pessoas_igfb = 0\n",
    "qtd_anuncio = 0\n",
    "\n",
    "# Abrindo o arquivo e analisando para ver de qual fonte cada aluno veio, usando o .readlines() para separar os alunos, e somando 1 para cada fonte que acharmos no aluno. \n",
    "with open('Alunos.txt', 'r') as alunos:\n",
    "    lista_texto = alunos.readlines()\n",
    "    del lista_texto[:4]\n",
    "    for item in lista_texto:\n",
    "        email, origem = item.split(',')\n",
    "        if '_org' in origem:\n",
    "            if 'hashtag_site_org' in origem:\n",
    "                pessoas_site += 1\n",
    "            if 'hashtag_yt_org' in origem:\n",
    "                pessoas_yt += 1\n",
    "            if 'hashtag_igfb_org' in origem or 'hashtag_ig_org' in origem:\n",
    "                pessoas_igfb += 1                \n",
    "        else:\n",
    "            qtd_anuncio += 1\n",
    "\n",
    "#Coloquei os orgânicos numa lista para poder aplicar funções em seus valores\n",
    "lista_organicos = [pessoas_site, pessoas_yt, pessoas_igfb]\n",
    "qtd_organicos = sum(lista_organicos)\n",
    "\n",
    "maior_index = lista_organicos.index(max(lista_organicos))\n",
    "if maior_index == 0:\n",
    "    maior_organico = 'Site Hashtag'\n",
    "elif maior_index == 1:\n",
    "    maior_organico = 'Youtube'\n",
    "else:\n",
    "    maior_organico = 'Instagram ou Facebook'\n",
    "\n",
    "#Criando Arquivo para printar os resultados\n",
    "with open('Indicadores.txt', 'w') as arquivos_indicadores:\n",
    "    arquivos_indicadores.write(f'Quantidade Anuncio: {qtd_anuncio}\\n Quantidade Organico: {qtd_organicos}\\n Quantidade Youtube: {pessoas_yt}\\n Quantidade Instagram: {pessoas_igfb}\\n Quantidade Site: {pessoas_site}')\n",
    "    arquivos_indicadores.write(f'A melhor fonte orgânica de alunos foi a do {maior_organico} com  ')\n"
   ]
  },
  {
   "cell_type": "code",
   "execution_count": null,
   "metadata": {},
   "outputs": [],
   "source": [
    "# Variáveis para as fontes\n",
    "pessoas_site = 0\n",
    "pessoas_yt = 0\n",
    "pessoas_igfb = 0\n",
    "qtd_anuncio = 0\n",
    "qtd_organico = 0\n",
    "\n",
    "# Abrindo o arquivo e analisando para ver de qual fonte cada aluno veio, usando o .readlines() para separar os alunos, e somando 1 para cada fonte que acharmos no aluno. \n",
    "with open('Alunos.txt', 'r') as alunos:\n",
    "    lista_texto = alunos.readlines()\n",
    "    del lista_texto[:4]\n",
    "    for item in lista_texto:\n",
    "        email, origem = item.split(',')\n",
    "        if 'org' in origem:\n",
    "            qtd_organico += 1\n",
    "            if 'hashtag_site_org' in origem:\n",
    "                pessoas_site += 1\n",
    "            if 'hashtag_yt_org' in origem:\n",
    "                pessoas_yt += 1\n",
    "            if 'hashtag_ig_org' in origem or 'hashtag_igfb_org' in origem:\n",
    "                pessoas_igfb += 1                \n",
    "        else:\n",
    "            qtd_anuncio += 1\n",
    "\n",
    "print(qtd_organico)\n",
    "print(qtd_anuncio)\n",
    "print(pessoas_site)\n",
    "print(pessoas_yt)\n",
    "print(pessoas_igfb)\n",
    "\n",
    "\n",
    "print(f'{qtd_anuncio} alunos vieram de anúncios, e {qtd_organico} vieram de orgânicos.')\n",
    "# print(f'A melhor fonte orgânica vem do {} com {} alunos. ')"
   ]
  }
 ],
 "metadata": {
  "kernelspec": {
   "display_name": "Python 3",
   "language": "python",
   "name": "python3"
  },
  "language_info": {
   "codemirror_mode": {
    "name": "ipython",
    "version": 3
   },
   "file_extension": ".py",
   "mimetype": "text/x-python",
   "name": "python",
   "nbconvert_exporter": "python",
   "pygments_lexer": "ipython3",
   "version": "3.9.7"
  }
 },
 "nbformat": 4,
 "nbformat_minor": 4
}
